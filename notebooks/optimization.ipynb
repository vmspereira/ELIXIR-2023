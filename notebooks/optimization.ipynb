{
 "cells": [
  {
   "cell_type": "markdown",
   "id": "e5773faf",
   "metadata": {},
   "source": [
    "# MEWpy Optimization\n",
    "\n",
    "\n",
    "Author: Vitor Pereira\n",
    "\n",
    "License: [CC BY-SA 4.0](http://creativecommons.org/licenses/by-sa/4.0/)\n",
    "\n",
    "-------\n",
    "\n",
    "In this tutorial:\n",
    "\n",
    "- You will learn how to run combinatorial optimization on microbial communities using MEWpy"
   ]
  },
  {
   "cell_type": "markdown",
   "id": "72031191",
   "metadata": {},
   "source": [
    "## Bacterial cross-feeding via extensive gene loss\n",
    "\n",
    "Metabolic dependencies between microbial species have a significant impact on the\n",
    "assembly and activity of microbial communities. However, the evolutionary origins of\n",
    "such dependencies and the impact of metabolic and genomic architecture on their\n",
    "emergence are not clear.\n",
    "\n",
    "Recently, [McNally et al.](https://doi.org/10.1186/s12918-018-0588-4) proposed a method to evolve\n",
    "cooperative interactions among microbial species by fostering cross-feeding of a\n",
    "diverse set of metabolites. This was achieved by incrementaly deleting genes on\n",
    "initially two identical bacterias (E. coli) and increasingly imposing constraints on the\n",
    "community metabolic network such that two new strains evolve and start to diverge\n",
    "while maximizing the differences on their genotypes.\n",
    "\n",
    "The aim is to replicate the experiments using\n",
    "MEWpy to maximize the number of deleted genes on the two strains\n",
    "while inducing cross-feeding. "
   ]
  },
  {
   "cell_type": "markdown",
   "id": "e3fe3979",
   "metadata": {},
   "source": [
    "### Run in Google colab\n",
    "\n",
    "If you are running this notebook in Colab, you need to perform the following steps, otherwise skip."
   ]
  },
  {
   "cell_type": "code",
   "execution_count": null,
   "id": "6d67604e",
   "metadata": {},
   "outputs": [],
   "source": [
    "%%bash\n",
    "[[ ! -e /colabtools ]] && exit\n",
    "! pip install -U -q PyDrive"
   ]
  },
  {
   "cell_type": "code",
   "execution_count": null,
   "id": "bfa8ecf8",
   "metadata": {},
   "outputs": [],
   "source": [
    "if 'google.colab' in str(get_ipython()):\n",
    "    from pydrive.auth import GoogleAuth\n",
    "    from pydrive.drive import GoogleDrive\n",
    "    from google.colab import auth\n",
    "    from oauth2client.client import GoogleCredentials\n",
    "\n",
    "    auth.authenticate_user()\n",
    "    gauth = GoogleAuth()\n",
    "    gauth.credentials = GoogleCredentials.get_application_default()\n",
    "    drive = GoogleDrive(gauth)\n",
    "\n",
    "    model_file = drive.CreateFile({'id':'1o0XthuEOs28UJ4XTa9SfFSFofazV-2nN'})\n",
    "    model_file.GetContentFile('e_coli_core.xml.gz')"
   ]
  },
  {
   "cell_type": "markdown",
   "id": "e78b9aa7",
   "metadata": {},
   "source": [
    "## Step 1 - Load the model"
   ]
  },
  {
   "cell_type": "code",
   "execution_count": null,
   "id": "91b9045c",
   "metadata": {},
   "outputs": [],
   "source": [
    "from cobra.io import read_sbml_model\n",
    "model = read_sbml_model('e_coli_core.xml.gz')"
   ]
  },
  {
   "cell_type": "markdown",
   "id": "a2b4fc59",
   "metadata": {},
   "source": [
    "We will make two copies of the model and rename the two strains"
   ]
  },
  {
   "cell_type": "code",
   "execution_count": null,
   "id": "8dc4a04c",
   "metadata": {},
   "outputs": [],
   "source": [
    "from mewpy import get_simulator\n",
    "wildtype = get_simulator(model)"
   ]
  },
  {
   "cell_type": "code",
   "execution_count": null,
   "id": "726079e0",
   "metadata": {},
   "outputs": [],
   "source": [
    "ec1 = wildtype.copy()\n",
    "ec1.id = 'ec1'\n",
    "ec2 =wildtype.copy()\n",
    "ec2.id = 'ec2'"
   ]
  },
  {
   "cell_type": "markdown",
   "id": "dc4947e9",
   "metadata": {},
   "source": [
    "In the experiment, we will use the medium defined in the model"
   ]
  },
  {
   "cell_type": "code",
   "execution_count": null,
   "id": "67413af6",
   "metadata": {
    "scrolled": true
   },
   "outputs": [],
   "source": [
    "from mewpy.simulation import Environment\n",
    "medium = Environment.from_model(wildtype)\n",
    "medium"
   ]
  },
  {
   "cell_type": "markdown",
   "id": "ab9eb23a",
   "metadata": {},
   "source": [
    "## Step 2 - Find single strain gene KOs"
   ]
  },
  {
   "cell_type": "markdown",
   "id": "08e4afb9",
   "metadata": {},
   "source": [
    "Two make the search for combinatorial gene deletion on the community model, we will first idenfify combinatorial gene delerions in one strain, and use these results to seed the community gene deletions.\n",
    "\n",
    "We start by defining a gene deletion optimization problem (`GKOProblem`) defining as objective the maximization of biomass production (f1) and the maximization of the number of deletions."
   ]
  },
  {
   "cell_type": "code",
   "execution_count": null,
   "id": "b9e85e16",
   "metadata": {},
   "outputs": [],
   "source": [
    "from mewpy.problems import GKOProblem\n",
    "from mewpy.optimization.evaluation import TargetFlux, CandidateSize"
   ]
  },
  {
   "cell_type": "code",
   "execution_count": null,
   "id": "3a1b7690",
   "metadata": {},
   "outputs": [],
   "source": [
    "f1 = TargetFlux(wildtype.biomass_reaction,method='FBA')\n",
    "f2 = CandidateSize(maximize=True)"
   ]
  },
  {
   "cell_type": "markdown",
   "id": "3752311b",
   "metadata": {},
   "source": [
    "To simpilfy the problem, we will define a maximum of 30 gene deletion and run 10 optimization iterations."
   ]
  },
  {
   "cell_type": "code",
   "execution_count": null,
   "id": "cc1828d2",
   "metadata": {},
   "outputs": [],
   "source": [
    "problem = GKOProblem(wildtype,\n",
    "                     [f1,f2],\n",
    "                     candidate_max_size = 30)\n"
   ]
  },
  {
   "cell_type": "code",
   "execution_count": null,
   "id": "d838bef7",
   "metadata": {},
   "outputs": [],
   "source": [
    "from mewpy.optimization import EA\n",
    "ea = EA(problem, max_generations=10)\n",
    "gkos = ea.run(simplify=False)"
   ]
  },
  {
   "cell_type": "markdown",
   "id": "49b54036",
   "metadata": {},
   "source": [
    "We can have a look to the solution found by the evolutionary algoritm (EA)"
   ]
  },
  {
   "cell_type": "code",
   "execution_count": null,
   "id": "22b63cf1",
   "metadata": {},
   "outputs": [],
   "source": [
    "ea.dataframe()"
   ]
  },
  {
   "cell_type": "markdown",
   "id": "8dc329e4",
   "metadata": {},
   "source": [
    "and run an FBA on the first solution (the biomass is set by default as objective)"
   ]
  },
  {
   "cell_type": "code",
   "execution_count": null,
   "id": "abe720b5",
   "metadata": {},
   "outputs": [],
   "source": [
    "problem.simulate(solution=gkos[0].values)"
   ]
  },
  {
   "cell_type": "markdown",
   "id": "6295108a",
   "metadata": {},
   "source": [
    "We may now generate solutions that will seed the EA to be used later in the community gene deletions."
   ]
  },
  {
   "cell_type": "code",
   "execution_count": null,
   "id": "fa265f62",
   "metadata": {},
   "outputs": [],
   "source": [
    "import random\n",
    "\n",
    "init_pop = []\n",
    "for s in gkos:\n",
    "    x=s.values\n",
    "    init_pop.append([k+'_ec1' for k in x.keys()])\n",
    "    init_pop.append([k+'_ec2' for k in x.keys()])\n",
    "\n",
    "random.shuffle(init_pop)\n"
   ]
  },
  {
   "cell_type": "markdown",
   "id": "4eacf5b3",
   "metadata": {},
   "source": [
    "## Community mutants \n",
    "\n",
    "We can now address our main goal, starting by defining a community model:"
   ]
  },
  {
   "cell_type": "code",
   "execution_count": null,
   "id": "a5ead7e5",
   "metadata": {},
   "outputs": [],
   "source": [
    "from mewpy.model import CommunityModel\n",
    "\n",
    "community= CommunityModel([ec1,ec2],flavor='cobra')\n",
    "sim = community.get_community_model()\n",
    "sim.set_environmental_conditions(medium)"
   ]
  },
  {
   "cell_type": "markdown",
   "id": "0fd206f6",
   "metadata": {},
   "source": [
    "We will consider 3 optimization objectives:\n",
    "\n",
    "- Maximize `ec1` growth while ensuring that `ec2` growth is above 0.1/h;\n",
    "- Maximize `ec2` growth while ensuring that `ec1` growth is above 0.1/h;\n",
    "- Maximize the total number of gene deletions."
   ]
  },
  {
   "cell_type": "code",
   "execution_count": null,
   "id": "4f1a046b",
   "metadata": {},
   "outputs": [],
   "source": [
    "f1 = TargetFlux(community.organisms_biomass['ec1'],\n",
    "                community.organisms_biomass['ec2'],\n",
    "                min_biomass_value=0.1,method='FBA')\n",
    "\n",
    "f2 = TargetFlux(community.organisms_biomass['ec2'],\n",
    "                community.organisms_biomass['ec1'],\n",
    "                min_biomass_value=0.1,method='FBA')\n",
    "\n",
    "f3 = CandidateSize(maximize=True)"
   ]
  },
  {
   "cell_type": "code",
   "execution_count": null,
   "id": "bf6d8ef2",
   "metadata": {},
   "outputs": [],
   "source": [
    "problem = GKOProblem(sim,\n",
    "                     [f1,f2,f3],\n",
    "                     candidate_max_size = 60)"
   ]
  },
  {
   "cell_type": "markdown",
   "id": "e2d20b58",
   "metadata": {},
   "source": [
    "Now that we have defined the optimization problem, we may run it (for 10 iterations, and considering a maximum of 60 gene deletions in total)"
   ]
  },
  {
   "cell_type": "code",
   "execution_count": null,
   "id": "d0febc71",
   "metadata": {},
   "outputs": [],
   "source": [
    "ea = EA(problem,\n",
    "        max_generations=10,\n",
    "        initial_population=init_pop[:100])\n",
    "\n",
    "solutions = ea.run(simplify=False)"
   ]
  },
  {
   "cell_type": "markdown",
   "id": "aa16fe03",
   "metadata": {},
   "source": [
    "We may now have a look at the solutions as a dataframe or as a plot"
   ]
  },
  {
   "cell_type": "code",
   "execution_count": null,
   "id": "cf72f00d",
   "metadata": {},
   "outputs": [],
   "source": [
    "df = ea.dataframe()\n",
    "df"
   ]
  },
  {
   "cell_type": "code",
   "execution_count": null,
   "id": "144cc4ef",
   "metadata": {},
   "outputs": [],
   "source": [
    "ea.plot()"
   ]
  },
  {
   "cell_type": "markdown",
   "id": "a084f809",
   "metadata": {},
   "source": [
    "We may even simulate one of the solution"
   ]
  },
  {
   "cell_type": "code",
   "execution_count": null,
   "id": "6a0f2afe",
   "metadata": {},
   "outputs": [],
   "source": [
    "solution = solutions[4]"
   ]
  },
  {
   "cell_type": "code",
   "execution_count": null,
   "id": "d0efbd3c",
   "metadata": {},
   "outputs": [],
   "source": [
    "problem.simulate(solution=solution.values).find('BIOMASS')"
   ]
  },
  {
   "cell_type": "markdown",
   "id": "2787a893",
   "metadata": {},
   "source": [
    "or have a look to the reaction that were deleted"
   ]
  },
  {
   "cell_type": "code",
   "execution_count": null,
   "id": "c92e07da",
   "metadata": {},
   "outputs": [],
   "source": [
    "problem.solution_to_constraints(solution.values)"
   ]
  }
 ],
 "metadata": {
  "kernelspec": {
   "display_name": "cobra",
   "language": "python",
   "name": "cobra"
  },
  "language_info": {
   "codemirror_mode": {
    "name": "ipython",
    "version": 3
   },
   "file_extension": ".py",
   "mimetype": "text/x-python",
   "name": "python",
   "nbconvert_exporter": "python",
   "pygments_lexer": "ipython3",
   "version": "3.9.15"
  }
 },
 "nbformat": 4,
 "nbformat_minor": 5
}
