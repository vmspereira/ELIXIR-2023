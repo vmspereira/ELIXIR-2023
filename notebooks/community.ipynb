{
 "cells": [
  {
   "cell_type": "markdown",
   "id": "4ef35842",
   "metadata": {},
   "source": [
    "# MEWpy Community Modeling\n",
    "\n",
    "Author: Vitor Pereira, inspired on the work by Daniel Machado. \n",
    "\n",
    "License: [CC BY-SA 4.0](http://creativecommons.org/licenses/by-sa/4.0/)\n",
    "\n",
    "-------\n",
    "\n",
    "In this tutorial:\n",
    "\n",
    "- You will learn how to perform flux balance analysis of microbial communities\n",
    "using a model of the [central carbon metabolism of *E. coli*](https://journals.asm.org/doi/10.1128/ecosalplus.10.2.1).\n"
   ]
  },
  {
   "cell_type": "markdown",
   "id": "19cdc16d",
   "metadata": {},
   "source": [
    "## Install requirements \n",
    "To run this notebook we firstly need to install the required packages"
   ]
  },
  {
   "cell_type": "code",
   "execution_count": 1,
   "id": "5af506f8",
   "metadata": {},
   "outputs": [
    {
     "name": "stdout",
     "output_type": "stream",
     "text": [
      "\u001b[31mERROR: Could not find a version that satisfies the requirement cplex (from versions: none)\u001b[0m\u001b[31m\r\n",
      "\u001b[0m\u001b[31mERROR: No matching distribution found for cplex\u001b[0m\u001b[31m\r\n",
      "\u001b[0m"
     ]
    }
   ],
   "source": [
    "! pip install -U -q mewpy cplex"
   ]
  },
  {
   "cell_type": "markdown",
   "id": "15b21699",
   "metadata": {},
   "source": [
    "Verify if the instalation"
   ]
  },
  {
   "cell_type": "code",
   "execution_count": 2,
   "id": "b959d694",
   "metadata": {},
   "outputs": [
    {
     "name": "stdout",
     "output_type": "stream",
     "text": [
      "MEWpy version: 0.1.25\n",
      "Author: BiSBII CEB University of Minho\n",
      "Contact: vpereira@ceb.uminho.pt \n",
      "\n",
      "Available LP solvers: gurobi glpk\n",
      "Default LP solver: gurobi \n",
      "\n",
      "Available ODE solvers: scipy\n",
      "Default ODE solver: scipy \n",
      "\n",
      "Optimization Problems: AbstractKOProblem AbstractOUProblem CommunityKOProblem ETFLGKOProblem ETFLGOUProblem GKOProblem GOUProblem GeckoKOProblem GeckoOUProblem KcatOptProblem KineticKOProblem KineticOUProblem MediumProblem OptORFProblem OptRamProblem RKOProblem ROUProblem \n",
      "\n",
      "Available EA engines: inspyred jmetal\n",
      "Default EA engine: jmetal\n",
      "Available EAs: GA NSGAII NSGAIII SA SPEA2 \n",
      "\n"
     ]
    }
   ],
   "source": [
    "import mewpy\n",
    "mewpy.info()"
   ]
  },
  {
   "cell_type": "markdown",
   "id": "6f2de219",
   "metadata": {},
   "source": [
    "IMPORTANT: The notebooks require a MEWpy version >= 0.1.26"
   ]
  },
  {
   "cell_type": "markdown",
   "id": "315126b8",
   "metadata": {},
   "source": [
    "### Run in Google colab\n",
    "\n",
    "If you are running this notebook in Colab, you need to perform the following steps, otherwise skip."
   ]
  },
  {
   "cell_type": "code",
   "execution_count": 3,
   "id": "70b7be89",
   "metadata": {},
   "outputs": [],
   "source": [
    "%%bash\n",
    "[[ ! -e /colabtools ]] && exit\n",
    "! pip install -U -q PyDrive"
   ]
  },
  {
   "cell_type": "code",
   "execution_count": 4,
   "id": "938ae881",
   "metadata": {},
   "outputs": [],
   "source": [
    "if 'google.colab' in str(get_ipython()):\n",
    "    from pydrive.auth import GoogleAuth\n",
    "    from pydrive.drive import GoogleDrive\n",
    "    from google.colab import auth\n",
    "    from oauth2client.client import GoogleCredentials\n",
    "\n",
    "    auth.authenticate_user()\n",
    "    gauth = GoogleAuth()\n",
    "    gauth.credentials = GoogleCredentials.get_application_default()\n",
    "    drive = GoogleDrive(gauth)\n",
    "\n",
    "    model_file = drive.CreateFile({'id':'1o0XthuEOs28UJ4XTa9SfFSFofazV-2nN'})\n",
    "    model_file.GetContentFile('e_coli_core.xml.gz')"
   ]
  },
  {
   "cell_type": "markdown",
   "id": "b5e4fe7b",
   "metadata": {},
   "source": [
    "## Setting up a community\n",
    "\n",
    "We will create a synthetic microbial consortium with two *E. coli* mutants growing in minimal medium. In one of the mutants we will knockout the glucose transporter and in the other we will knockout the ammonium transporter."
   ]
  },
  {
   "cell_type": "code",
   "execution_count": 5,
   "id": "4fd366fe",
   "metadata": {},
   "outputs": [
    {
     "name": "stdout",
     "output_type": "stream",
     "text": [
      "Set parameter Username\n",
      "Academic license - for non-commercial use only - expires 2023-10-30\n",
      "objective: 0.8739215069684301\n",
      "Status: OPTIMAL\n",
      "Method:SimulationMethod.FBA\n"
     ]
    },
    {
     "data": {
      "text/html": [
       "<div>\n",
       "<style scoped>\n",
       "    .dataframe tbody tr th:only-of-type {\n",
       "        vertical-align: middle;\n",
       "    }\n",
       "\n",
       "    .dataframe tbody tr th {\n",
       "        vertical-align: top;\n",
       "    }\n",
       "\n",
       "    .dataframe thead th {\n",
       "        text-align: right;\n",
       "    }\n",
       "</style>\n",
       "<table border=\"1\" class=\"dataframe\">\n",
       "  <thead>\n",
       "    <tr style=\"text-align: right;\">\n",
       "      <th></th>\n",
       "      <th>Flux rate</th>\n",
       "    </tr>\n",
       "    <tr>\n",
       "      <th>Reaction ID</th>\n",
       "      <th></th>\n",
       "    </tr>\n",
       "  </thead>\n",
       "  <tbody>\n",
       "    <tr>\n",
       "      <th>EX_co2_e</th>\n",
       "      <td>22.809833</td>\n",
       "    </tr>\n",
       "    <tr>\n",
       "      <th>EX_glc__D_e</th>\n",
       "      <td>-10.000000</td>\n",
       "    </tr>\n",
       "    <tr>\n",
       "      <th>EX_h_e</th>\n",
       "      <td>17.530865</td>\n",
       "    </tr>\n",
       "    <tr>\n",
       "      <th>EX_h2o_e</th>\n",
       "      <td>29.175827</td>\n",
       "    </tr>\n",
       "    <tr>\n",
       "      <th>EX_nh4_e</th>\n",
       "      <td>-4.765319</td>\n",
       "    </tr>\n",
       "    <tr>\n",
       "      <th>EX_o2_e</th>\n",
       "      <td>-21.799493</td>\n",
       "    </tr>\n",
       "    <tr>\n",
       "      <th>EX_pi_e</th>\n",
       "      <td>-3.214895</td>\n",
       "    </tr>\n",
       "  </tbody>\n",
       "</table>\n",
       "</div>"
      ],
      "text/plain": [
       "             Flux rate\n",
       "Reaction ID           \n",
       "EX_co2_e     22.809833\n",
       "EX_glc__D_e -10.000000\n",
       "EX_h_e       17.530865\n",
       "EX_h2o_e     29.175827\n",
       "EX_nh4_e     -4.765319\n",
       "EX_o2_e     -21.799493\n",
       "EX_pi_e      -3.214895"
      ]
     },
     "execution_count": 5,
     "metadata": {},
     "output_type": "execute_result"
    }
   ],
   "source": [
    "from cobra.io import read_sbml_model\n",
    "from mewpy import get_simulator\n",
    "\n",
    "model = read_sbml_model('e_coli_core.xml.gz')\n",
    "wildtype = get_simulator(model)\n",
    "solution = wildtype.simulate()\n",
    "print(solution)\n",
    "solution.find('EX')"
   ]
  },
  {
   "cell_type": "markdown",
   "id": "d4c64668",
   "metadata": {},
   "source": [
    "Now we create our two mutants (`glc_ko` and `nh4_ko`):"
   ]
  },
  {
   "cell_type": "code",
   "execution_count": 6,
   "id": "196680b4",
   "metadata": {},
   "outputs": [
    {
     "name": "stdout",
     "output_type": "stream",
     "text": [
      "Read LP format model from file /var/folders/fw/kbs61_l15j587pjbwf3_y8780000gn/T/tmpelgi1d1i.lp\n",
      "Reading time = 0.00 seconds\n",
      ": 72 rows, 190 columns, 720 nonzeros\n"
     ]
    }
   ],
   "source": [
    "glc_ko = wildtype.copy()\n",
    "glc_ko.id = 'glc_ko'\n",
    "glc_ko.set_reaction_bounds('GLCpts', 0, 0)"
   ]
  },
  {
   "cell_type": "code",
   "execution_count": 7,
   "id": "07635f2d",
   "metadata": {},
   "outputs": [
    {
     "name": "stdout",
     "output_type": "stream",
     "text": [
      "Read LP format model from file /var/folders/fw/kbs61_l15j587pjbwf3_y8780000gn/T/tmpnhkai0ch.lp\n",
      "Reading time = 0.00 seconds\n",
      ": 72 rows, 190 columns, 720 nonzeros\n"
     ]
    }
   ],
   "source": [
    "nh4_ko = wildtype.copy()\n",
    "nh4_ko.id = 'nh4_ko'\n",
    "nh4_ko.set_reaction_bounds('NH4t', 0, 0)"
   ]
  },
  {
   "cell_type": "markdown",
   "id": "d2e59b28",
   "metadata": {},
   "source": [
    "## Comparing models\n",
    "\n",
    "Community models, to work properly, require that metabolites have the same identifiers accros all models. Check common metabolites, reactions and uptakes overlaps between the models."
   ]
  },
  {
   "cell_type": "code",
   "execution_count": 8,
   "id": "cfb968f4",
   "metadata": {},
   "outputs": [],
   "source": [
    "from mewpy.cobra.com import *\n",
    "mets, rxns, over = jaccard_similarity_matrices([glc_ko, nh4_ko])"
   ]
  },
  {
   "cell_type": "code",
   "execution_count": 9,
   "id": "0f4dd1a0",
   "metadata": {},
   "outputs": [
    {
     "data": {
      "text/html": [
       "<div>\n",
       "<style scoped>\n",
       "    .dataframe tbody tr th:only-of-type {\n",
       "        vertical-align: middle;\n",
       "    }\n",
       "\n",
       "    .dataframe tbody tr th {\n",
       "        vertical-align: top;\n",
       "    }\n",
       "\n",
       "    .dataframe thead th {\n",
       "        text-align: right;\n",
       "    }\n",
       "</style>\n",
       "<table border=\"1\" class=\"dataframe\">\n",
       "  <thead>\n",
       "    <tr style=\"text-align: right;\">\n",
       "      <th></th>\n",
       "      <th>glc_ko</th>\n",
       "      <th>nh4_ko</th>\n",
       "    </tr>\n",
       "  </thead>\n",
       "  <tbody>\n",
       "    <tr>\n",
       "      <th>glc_ko</th>\n",
       "      <td>1.0</td>\n",
       "      <td>1.0</td>\n",
       "    </tr>\n",
       "    <tr>\n",
       "      <th>nh4_ko</th>\n",
       "      <td>1.0</td>\n",
       "      <td>1.0</td>\n",
       "    </tr>\n",
       "  </tbody>\n",
       "</table>\n",
       "</div>"
      ],
      "text/plain": [
       "        glc_ko  nh4_ko\n",
       "glc_ko     1.0     1.0\n",
       "nh4_ko     1.0     1.0"
      ]
     },
     "execution_count": 9,
     "metadata": {},
     "output_type": "execute_result"
    }
   ],
   "source": [
    "mets"
   ]
  },
  {
   "cell_type": "code",
   "execution_count": 10,
   "id": "cc300e98",
   "metadata": {},
   "outputs": [
    {
     "data": {
      "text/html": [
       "<div>\n",
       "<style scoped>\n",
       "    .dataframe tbody tr th:only-of-type {\n",
       "        vertical-align: middle;\n",
       "    }\n",
       "\n",
       "    .dataframe tbody tr th {\n",
       "        vertical-align: top;\n",
       "    }\n",
       "\n",
       "    .dataframe thead th {\n",
       "        text-align: right;\n",
       "    }\n",
       "</style>\n",
       "<table border=\"1\" class=\"dataframe\">\n",
       "  <thead>\n",
       "    <tr style=\"text-align: right;\">\n",
       "      <th></th>\n",
       "      <th>glc_ko</th>\n",
       "      <th>nh4_ko</th>\n",
       "    </tr>\n",
       "  </thead>\n",
       "  <tbody>\n",
       "    <tr>\n",
       "      <th>glc_ko</th>\n",
       "      <td>1.000000</td>\n",
       "      <td>0.978947</td>\n",
       "    </tr>\n",
       "    <tr>\n",
       "      <th>nh4_ko</th>\n",
       "      <td>0.978947</td>\n",
       "      <td>1.000000</td>\n",
       "    </tr>\n",
       "  </tbody>\n",
       "</table>\n",
       "</div>"
      ],
      "text/plain": [
       "          glc_ko    nh4_ko\n",
       "glc_ko  1.000000  0.978947\n",
       "nh4_ko  0.978947  1.000000"
      ]
     },
     "execution_count": 10,
     "metadata": {},
     "output_type": "execute_result"
    }
   ],
   "source": [
    "rxns"
   ]
  },
  {
   "cell_type": "code",
   "execution_count": 11,
   "id": "811171ea",
   "metadata": {},
   "outputs": [
    {
     "data": {
      "text/html": [
       "<div>\n",
       "<style scoped>\n",
       "    .dataframe tbody tr th:only-of-type {\n",
       "        vertical-align: middle;\n",
       "    }\n",
       "\n",
       "    .dataframe tbody tr th {\n",
       "        vertical-align: top;\n",
       "    }\n",
       "\n",
       "    .dataframe thead th {\n",
       "        text-align: right;\n",
       "    }\n",
       "</style>\n",
       "<table border=\"1\" class=\"dataframe\">\n",
       "  <thead>\n",
       "    <tr style=\"text-align: right;\">\n",
       "      <th></th>\n",
       "      <th>glc_ko</th>\n",
       "      <th>nh4_ko</th>\n",
       "    </tr>\n",
       "  </thead>\n",
       "  <tbody>\n",
       "    <tr>\n",
       "      <th>glc_ko</th>\n",
       "      <td>1.0</td>\n",
       "      <td>1.0</td>\n",
       "    </tr>\n",
       "    <tr>\n",
       "      <th>nh4_ko</th>\n",
       "      <td>1.0</td>\n",
       "      <td>1.0</td>\n",
       "    </tr>\n",
       "  </tbody>\n",
       "</table>\n",
       "</div>"
      ],
      "text/plain": [
       "        glc_ko  nh4_ko\n",
       "glc_ko     1.0     1.0\n",
       "nh4_ko     1.0     1.0"
      ]
     },
     "execution_count": 11,
     "metadata": {},
     "output_type": "execute_result"
    }
   ],
   "source": [
    "over"
   ]
  },
  {
   "cell_type": "markdown",
   "id": "949323a8",
   "metadata": {},
   "source": [
    "## Building communities\n",
    "\n",
    "**MEWpy** has some basic functionality for working with microbial communities, one is the `CommunityModel` class to create microbial communities from a list of models of individual species: "
   ]
  },
  {
   "cell_type": "code",
   "execution_count": 12,
   "id": "91e413e9",
   "metadata": {},
   "outputs": [],
   "source": [
    "from mewpy.model import CommunityModel\n",
    "community = CommunityModel([glc_ko, nh4_ko],flavor='cobra')"
   ]
  },
  {
   "cell_type": "code",
   "execution_count": 13,
   "id": "46ed57b9",
   "metadata": {},
   "outputs": [],
   "source": [
    "sim = community.get_community_model()"
   ]
  },
  {
   "cell_type": "markdown",
   "id": "a9cef7fa",
   "metadata": {},
   "source": [
    "This community model ignores the environmental conditions that were specified in the original models (since these could be very different). \n",
    "\n",
    "To make our life easier, we will extract the nutrient composition specified in the wild-type model to use later."
   ]
  },
  {
   "cell_type": "code",
   "execution_count": 14,
   "id": "6644486c",
   "metadata": {},
   "outputs": [
    {
     "data": {
      "text/plain": [
       "EX_ac_e\t0.0\t1000.0\n",
       "EX_acald_e\t0.0\t1000.0\n",
       "EX_akg_e\t0.0\t1000.0\n",
       "EX_co2_e\t-1000.0\t1000.0\n",
       "EX_etoh_e\t0.0\t1000.0\n",
       "EX_for_e\t0.0\t1000.0\n",
       "EX_fru_e\t0.0\t1000.0\n",
       "EX_fum_e\t0.0\t1000.0\n",
       "EX_glc__D_e\t-10.0\t1000.0\n",
       "EX_gln__L_e\t0.0\t1000.0\n",
       "EX_glu__L_e\t0.0\t1000.0\n",
       "EX_h_e\t-1000.0\t1000.0\n",
       "EX_h2o_e\t-1000.0\t1000.0\n",
       "EX_lac__D_e\t0.0\t1000.0\n",
       "EX_mal__L_e\t0.0\t1000.0\n",
       "EX_nh4_e\t-1000.0\t1000.0\n",
       "EX_o2_e\t-1000.0\t1000.0\n",
       "EX_pi_e\t-1000.0\t1000.0\n",
       "EX_pyr_e\t0.0\t1000.0\n",
       "EX_succ_e\t0.0\t1000.0"
      ]
     },
     "execution_count": 14,
     "metadata": {},
     "output_type": "execute_result"
    }
   ],
   "source": [
    "from mewpy.simulation import Environment\n",
    "M9 = Environment.from_model(wildtype)\n",
    "M9"
   ]
  },
  {
   "cell_type": "markdown",
   "id": "a4829b00",
   "metadata": {},
   "source": [
    "## Simulation using FBA\n",
    "\n",
    "A very simple way to simulate a microbial community is to merge the individual models into a single model that mimics a \"super organism\", where each microbe lives inside its own compartment, and run a (conventional) FBA simulation for this *super organism*."
   ]
  },
  {
   "cell_type": "code",
   "execution_count": 15,
   "id": "c05b197d",
   "metadata": {},
   "outputs": [
    {
     "name": "stdout",
     "output_type": "stream",
     "text": [
      "objective: 0.8311955501858121\n",
      "Status: OPTIMAL\n",
      "Method:SimulationMethod.FBA\n"
     ]
    },
    {
     "data": {
      "text/html": [
       "<div>\n",
       "<style scoped>\n",
       "    .dataframe tbody tr th:only-of-type {\n",
       "        vertical-align: middle;\n",
       "    }\n",
       "\n",
       "    .dataframe tbody tr th {\n",
       "        vertical-align: top;\n",
       "    }\n",
       "\n",
       "    .dataframe thead th {\n",
       "        text-align: right;\n",
       "    }\n",
       "</style>\n",
       "<table border=\"1\" class=\"dataframe\">\n",
       "  <thead>\n",
       "    <tr style=\"text-align: right;\">\n",
       "      <th></th>\n",
       "      <th>Flux rate</th>\n",
       "    </tr>\n",
       "    <tr>\n",
       "      <th>Reaction ID</th>\n",
       "      <th></th>\n",
       "    </tr>\n",
       "  </thead>\n",
       "  <tbody>\n",
       "    <tr>\n",
       "      <th>EX_glc__D_e</th>\n",
       "      <td>-10.000000</td>\n",
       "    </tr>\n",
       "    <tr>\n",
       "      <th>EX_h2o_e</th>\n",
       "      <td>30.682819</td>\n",
       "    </tr>\n",
       "    <tr>\n",
       "      <th>EX_h_e</th>\n",
       "      <td>16.673783</td>\n",
       "    </tr>\n",
       "    <tr>\n",
       "      <th>EX_nh4_e</th>\n",
       "      <td>-4.532343</td>\n",
       "    </tr>\n",
       "    <tr>\n",
       "      <th>EX_o2_e</th>\n",
       "      <td>-23.667113</td>\n",
       "    </tr>\n",
       "    <tr>\n",
       "      <th>EX_pi_e</th>\n",
       "      <td>-3.057719</td>\n",
       "    </tr>\n",
       "    <tr>\n",
       "      <th>EX_co2_e</th>\n",
       "      <td>24.628058</td>\n",
       "    </tr>\n",
       "  </tbody>\n",
       "</table>\n",
       "</div>"
      ],
      "text/plain": [
       "             Flux rate\n",
       "Reaction ID           \n",
       "EX_glc__D_e -10.000000\n",
       "EX_h2o_e     30.682819\n",
       "EX_h_e       16.673783\n",
       "EX_nh4_e     -4.532343\n",
       "EX_o2_e     -23.667113\n",
       "EX_pi_e      -3.057719\n",
       "EX_co2_e     24.628058"
      ]
     },
     "execution_count": 15,
     "metadata": {},
     "output_type": "execute_result"
    }
   ],
   "source": [
    "solution = sim.simulate(constraints=M9)\n",
    "\n",
    "print(solution)\n",
    "solution.find('EX')"
   ]
  },
  {
   "cell_type": "markdown",
   "id": "a9087681",
   "metadata": {},
   "source": [
    "We can see that the model predicts a growth rate (total biomass per hour) similar to the wild-type, with an efficient consumption of glucose and ammonia that results in respiratory metabolism.\n",
    "\n",
    "But what is each organism doing, and are both organisms actually growing at the same rate?\n",
    "\n",
    "Let's print the biomass flux for each organism:"
   ]
  },
  {
   "cell_type": "code",
   "execution_count": 16,
   "id": "0f914cb9",
   "metadata": {},
   "outputs": [
    {
     "data": {
      "text/html": [
       "<div>\n",
       "<style scoped>\n",
       "    .dataframe tbody tr th:only-of-type {\n",
       "        vertical-align: middle;\n",
       "    }\n",
       "\n",
       "    .dataframe tbody tr th {\n",
       "        vertical-align: top;\n",
       "    }\n",
       "\n",
       "    .dataframe thead th {\n",
       "        text-align: right;\n",
       "    }\n",
       "</style>\n",
       "<table border=\"1\" class=\"dataframe\">\n",
       "  <thead>\n",
       "    <tr style=\"text-align: right;\">\n",
       "      <th></th>\n",
       "      <th>Flux rate</th>\n",
       "    </tr>\n",
       "    <tr>\n",
       "      <th>Reaction ID</th>\n",
       "      <th></th>\n",
       "    </tr>\n",
       "  </thead>\n",
       "  <tbody>\n",
       "    <tr>\n",
       "      <th>BIOMASS_Ecoli_core_w_GAM_glc_ko</th>\n",
       "      <td>0.000000</td>\n",
       "    </tr>\n",
       "    <tr>\n",
       "      <th>BIOMASS_Ecoli_core_w_GAM_nh4_ko</th>\n",
       "      <td>0.831196</td>\n",
       "    </tr>\n",
       "  </tbody>\n",
       "</table>\n",
       "</div>"
      ],
      "text/plain": [
       "                                 Flux rate\n",
       "Reaction ID                               \n",
       "BIOMASS_Ecoli_core_w_GAM_glc_ko   0.000000\n",
       "BIOMASS_Ecoli_core_w_GAM_nh4_ko   0.831196"
      ]
     },
     "execution_count": 16,
     "metadata": {},
     "output_type": "execute_result"
    }
   ],
   "source": [
    "solution.find('BIOMASS', sort=True,show_nulls=True)"
   ]
  },
  {
   "cell_type": "markdown",
   "id": "fcec5b80",
   "metadata": {},
   "source": [
    "and all non null fluxes"
   ]
  },
  {
   "cell_type": "code",
   "execution_count": 17,
   "id": "eddcb0c6",
   "metadata": {},
   "outputs": [
    {
     "data": {
      "text/html": [
       "<div>\n",
       "<style scoped>\n",
       "    .dataframe tbody tr th:only-of-type {\n",
       "        vertical-align: middle;\n",
       "    }\n",
       "\n",
       "    .dataframe tbody tr th {\n",
       "        vertical-align: top;\n",
       "    }\n",
       "\n",
       "    .dataframe thead th {\n",
       "        text-align: right;\n",
       "    }\n",
       "</style>\n",
       "<table border=\"1\" class=\"dataframe\">\n",
       "  <thead>\n",
       "    <tr style=\"text-align: right;\">\n",
       "      <th></th>\n",
       "      <th>Flux rate</th>\n",
       "    </tr>\n",
       "    <tr>\n",
       "      <th>Reaction ID</th>\n",
       "      <th></th>\n",
       "    </tr>\n",
       "  </thead>\n",
       "  <tbody>\n",
       "    <tr>\n",
       "      <th>CO2t_glc_ko</th>\n",
       "      <td>-11.786388</td>\n",
       "    </tr>\n",
       "    <tr>\n",
       "      <th>D_LACt2_glc_ko</th>\n",
       "      <td>-9.064686</td>\n",
       "    </tr>\n",
       "    <tr>\n",
       "      <th>LDH_D_glc_ko</th>\n",
       "      <td>-9.064686</td>\n",
       "    </tr>\n",
       "    <tr>\n",
       "      <th>GLUDy_glc_ko</th>\n",
       "      <td>-4.532343</td>\n",
       "    </tr>\n",
       "    <tr>\n",
       "      <th>GLUt2r_glc_ko</th>\n",
       "      <td>-4.532343</td>\n",
       "    </tr>\n",
       "    <tr>\n",
       "      <th>SUCOAS_glc_ko</th>\n",
       "      <td>-4.532343</td>\n",
       "    </tr>\n",
       "    <tr>\n",
       "      <th>PTAr_glc_ko</th>\n",
       "      <td>-1.810642</td>\n",
       "    </tr>\n",
       "    <tr>\n",
       "      <th>ACKr_glc_ko</th>\n",
       "      <td>1.810642</td>\n",
       "    </tr>\n",
       "    <tr>\n",
       "      <th>ACt2r_glc_ko</th>\n",
       "      <td>1.810642</td>\n",
       "    </tr>\n",
       "    <tr>\n",
       "      <th>NADH16_glc_ko</th>\n",
       "      <td>2.721702</td>\n",
       "    </tr>\n",
       "    <tr>\n",
       "      <th>PDH_glc_ko</th>\n",
       "      <td>2.721702</td>\n",
       "    </tr>\n",
       "    <tr>\n",
       "      <th>O2t_glc_ko</th>\n",
       "      <td>3.627022</td>\n",
       "    </tr>\n",
       "    <tr>\n",
       "      <th>ACONTa_glc_ko</th>\n",
       "      <td>4.532343</td>\n",
       "    </tr>\n",
       "    <tr>\n",
       "      <th>ACONTb_glc_ko</th>\n",
       "      <td>4.532343</td>\n",
       "    </tr>\n",
       "    <tr>\n",
       "      <th>AKGDH_glc_ko</th>\n",
       "      <td>4.532343</td>\n",
       "    </tr>\n",
       "    <tr>\n",
       "      <th>AKGt2r_glc_ko</th>\n",
       "      <td>4.532343</td>\n",
       "    </tr>\n",
       "    <tr>\n",
       "      <th>CS_glc_ko</th>\n",
       "      <td>4.532343</td>\n",
       "    </tr>\n",
       "    <tr>\n",
       "      <th>FUM_glc_ko</th>\n",
       "      <td>4.532343</td>\n",
       "    </tr>\n",
       "    <tr>\n",
       "      <th>ICDHyr_glc_ko</th>\n",
       "      <td>4.532343</td>\n",
       "    </tr>\n",
       "    <tr>\n",
       "      <th>MDH_glc_ko</th>\n",
       "      <td>4.532343</td>\n",
       "    </tr>\n",
       "    <tr>\n",
       "      <th>NH4t_glc_ko</th>\n",
       "      <td>4.532343</td>\n",
       "    </tr>\n",
       "    <tr>\n",
       "      <th>SUCDi_glc_ko</th>\n",
       "      <td>4.532343</td>\n",
       "    </tr>\n",
       "    <tr>\n",
       "      <th>ATPS4r_glc_ko</th>\n",
       "      <td>5.668298</td>\n",
       "    </tr>\n",
       "    <tr>\n",
       "      <th>CYTBD_glc_ko</th>\n",
       "      <td>7.254045</td>\n",
       "    </tr>\n",
       "    <tr>\n",
       "      <th>ATPM_glc_ko</th>\n",
       "      <td>8.390000</td>\n",
       "    </tr>\n",
       "    <tr>\n",
       "      <th>PYRt2_glc_ko</th>\n",
       "      <td>11.786388</td>\n",
       "    </tr>\n",
       "  </tbody>\n",
       "</table>\n",
       "</div>"
      ],
      "text/plain": [
       "                Flux rate\n",
       "Reaction ID              \n",
       "CO2t_glc_ko    -11.786388\n",
       "D_LACt2_glc_ko  -9.064686\n",
       "LDH_D_glc_ko    -9.064686\n",
       "GLUDy_glc_ko    -4.532343\n",
       "GLUt2r_glc_ko   -4.532343\n",
       "SUCOAS_glc_ko   -4.532343\n",
       "PTAr_glc_ko     -1.810642\n",
       "ACKr_glc_ko      1.810642\n",
       "ACt2r_glc_ko     1.810642\n",
       "NADH16_glc_ko    2.721702\n",
       "PDH_glc_ko       2.721702\n",
       "O2t_glc_ko       3.627022\n",
       "ACONTa_glc_ko    4.532343\n",
       "ACONTb_glc_ko    4.532343\n",
       "AKGDH_glc_ko     4.532343\n",
       "AKGt2r_glc_ko    4.532343\n",
       "CS_glc_ko        4.532343\n",
       "FUM_glc_ko       4.532343\n",
       "ICDHyr_glc_ko    4.532343\n",
       "MDH_glc_ko       4.532343\n",
       "NH4t_glc_ko      4.532343\n",
       "SUCDi_glc_ko     4.532343\n",
       "ATPS4r_glc_ko    5.668298\n",
       "CYTBD_glc_ko     7.254045\n",
       "ATPM_glc_ko      8.390000\n",
       "PYRt2_glc_ko    11.786388"
      ]
     },
     "execution_count": 17,
     "metadata": {},
     "output_type": "execute_result"
    }
   ],
   "source": [
    "solution.find('glc_ko', sort=True)"
   ]
  },
  {
   "cell_type": "code",
   "execution_count": 18,
   "id": "76cdc682",
   "metadata": {},
   "outputs": [
    {
     "data": {
      "text/html": [
       "<div>\n",
       "<style scoped>\n",
       "    .dataframe tbody tr th:only-of-type {\n",
       "        vertical-align: middle;\n",
       "    }\n",
       "\n",
       "    .dataframe tbody tr th {\n",
       "        vertical-align: top;\n",
       "    }\n",
       "\n",
       "    .dataframe thead th {\n",
       "        text-align: right;\n",
       "    }\n",
       "</style>\n",
       "<table border=\"1\" class=\"dataframe\">\n",
       "  <thead>\n",
       "    <tr style=\"text-align: right;\">\n",
       "      <th></th>\n",
       "      <th>Flux rate</th>\n",
       "    </tr>\n",
       "    <tr>\n",
       "      <th>Reaction ID</th>\n",
       "      <th></th>\n",
       "    </tr>\n",
       "  </thead>\n",
       "  <tbody>\n",
       "    <tr>\n",
       "      <th>H2Ot_nh4_ko</th>\n",
       "      <td>-30.682819</td>\n",
       "    </tr>\n",
       "    <tr>\n",
       "      <th>PGK_nh4_ko</th>\n",
       "      <td>-16.413495</td>\n",
       "    </tr>\n",
       "    <tr>\n",
       "      <th>PGM_nh4_ko</th>\n",
       "      <td>-15.170027</td>\n",
       "    </tr>\n",
       "    <tr>\n",
       "      <th>CO2t_nh4_ko</th>\n",
       "      <td>-12.841670</td>\n",
       "    </tr>\n",
       "    <tr>\n",
       "      <th>PYRt2_nh4_ko</th>\n",
       "      <td>-11.786388</td>\n",
       "    </tr>\n",
       "    <tr>\n",
       "      <th>AKGt2r_nh4_ko</th>\n",
       "      <td>-4.532343</td>\n",
       "    </tr>\n",
       "    <tr>\n",
       "      <th>RPI_nh4_ko</th>\n",
       "      <td>-1.974401</td>\n",
       "    </tr>\n",
       "    <tr>\n",
       "      <th>ACKr_nh4_ko</th>\n",
       "      <td>-1.810642</td>\n",
       "    </tr>\n",
       "    <tr>\n",
       "      <th>ACt2r_nh4_ko</th>\n",
       "      <td>-1.810642</td>\n",
       "    </tr>\n",
       "    <tr>\n",
       "      <th>SUCOAS_nh4_ko</th>\n",
       "      <td>-1.457794</td>\n",
       "    </tr>\n",
       "    <tr>\n",
       "      <th>GLNS_nh4_ko</th>\n",
       "      <td>0.212537</td>\n",
       "    </tr>\n",
       "    <tr>\n",
       "      <th>GLUDy_nh4_ko</th>\n",
       "      <td>0.212537</td>\n",
       "    </tr>\n",
       "    <tr>\n",
       "      <th>BIOMASS_Ecoli_core_w_GAM_nh4_ko</th>\n",
       "      <td>0.831196</td>\n",
       "    </tr>\n",
       "    <tr>\n",
       "      <th>TKT2_nh4_ko</th>\n",
       "      <td>0.928175</td>\n",
       "    </tr>\n",
       "    <tr>\n",
       "      <th>TALA_nh4_ko</th>\n",
       "      <td>1.228237</td>\n",
       "    </tr>\n",
       "    <tr>\n",
       "      <th>TKT1_nh4_ko</th>\n",
       "      <td>1.228237</td>\n",
       "    </tr>\n",
       "    <tr>\n",
       "      <th>AKGDH_nh4_ko</th>\n",
       "      <td>1.457794</td>\n",
       "    </tr>\n",
       "    <tr>\n",
       "      <th>FUM_nh4_ko</th>\n",
       "      <td>1.457794</td>\n",
       "    </tr>\n",
       "    <tr>\n",
       "      <th>MDH_nh4_ko</th>\n",
       "      <td>1.457794</td>\n",
       "    </tr>\n",
       "    <tr>\n",
       "      <th>SUCDi_nh4_ko</th>\n",
       "      <td>1.457794</td>\n",
       "    </tr>\n",
       "    <tr>\n",
       "      <th>PTAr_nh4_ko</th>\n",
       "      <td>1.810642</td>\n",
       "    </tr>\n",
       "    <tr>\n",
       "      <th>RPE_nh4_ko</th>\n",
       "      <td>2.156412</td>\n",
       "    </tr>\n",
       "    <tr>\n",
       "      <th>ACONTa_nh4_ko</th>\n",
       "      <td>2.354571</td>\n",
       "    </tr>\n",
       "    <tr>\n",
       "      <th>ACONTb_nh4_ko</th>\n",
       "      <td>2.354571</td>\n",
       "    </tr>\n",
       "    <tr>\n",
       "      <th>CS_nh4_ko</th>\n",
       "      <td>2.354571</td>\n",
       "    </tr>\n",
       "    <tr>\n",
       "      <th>ICDHyr_nh4_ko</th>\n",
       "      <td>2.354571</td>\n",
       "    </tr>\n",
       "    <tr>\n",
       "      <th>PYK_nh4_ko</th>\n",
       "      <td>2.356679</td>\n",
       "    </tr>\n",
       "    <tr>\n",
       "      <th>PPC_nh4_ko</th>\n",
       "      <td>2.381874</td>\n",
       "    </tr>\n",
       "    <tr>\n",
       "      <th>PIt2r_nh4_ko</th>\n",
       "      <td>3.057719</td>\n",
       "    </tr>\n",
       "    <tr>\n",
       "      <th>G6PDH2r_nh4_ko</th>\n",
       "      <td>4.130813</td>\n",
       "    </tr>\n",
       "    <tr>\n",
       "      <th>GND_nh4_ko</th>\n",
       "      <td>4.130813</td>\n",
       "    </tr>\n",
       "    <tr>\n",
       "      <th>PGL_nh4_ko</th>\n",
       "      <td>4.130813</td>\n",
       "    </tr>\n",
       "    <tr>\n",
       "      <th>GLUt2r_nh4_ko</th>\n",
       "      <td>4.532343</td>\n",
       "    </tr>\n",
       "    <tr>\n",
       "      <th>PGI_nh4_ko</th>\n",
       "      <td>5.698792</td>\n",
       "    </tr>\n",
       "    <tr>\n",
       "      <th>PDH_nh4_ko</th>\n",
       "      <td>7.280367</td>\n",
       "    </tr>\n",
       "    <tr>\n",
       "      <th>FBA_nh4_ko</th>\n",
       "      <td>7.796272</td>\n",
       "    </tr>\n",
       "    <tr>\n",
       "      <th>PFK_nh4_ko</th>\n",
       "      <td>7.796272</td>\n",
       "    </tr>\n",
       "    <tr>\n",
       "      <th>TPI_nh4_ko</th>\n",
       "      <td>7.796272</td>\n",
       "    </tr>\n",
       "    <tr>\n",
       "      <th>ATPM_nh4_ko</th>\n",
       "      <td>8.390000</td>\n",
       "    </tr>\n",
       "    <tr>\n",
       "      <th>D_LACt2_nh4_ko</th>\n",
       "      <td>9.064686</td>\n",
       "    </tr>\n",
       "    <tr>\n",
       "      <th>LDH_D_nh4_ko</th>\n",
       "      <td>9.064686</td>\n",
       "    </tr>\n",
       "    <tr>\n",
       "      <th>GLCpts_nh4_ko</th>\n",
       "      <td>10.000000</td>\n",
       "    </tr>\n",
       "    <tr>\n",
       "      <th>ENO_nh4_ko</th>\n",
       "      <td>15.170027</td>\n",
       "    </tr>\n",
       "    <tr>\n",
       "      <th>GAPD_nh4_ko</th>\n",
       "      <td>16.413495</td>\n",
       "    </tr>\n",
       "    <tr>\n",
       "      <th>O2t_nh4_ko</th>\n",
       "      <td>20.040090</td>\n",
       "    </tr>\n",
       "    <tr>\n",
       "      <th>NADH16_nh4_ko</th>\n",
       "      <td>38.622387</td>\n",
       "    </tr>\n",
       "    <tr>\n",
       "      <th>CYTBD_nh4_ko</th>\n",
       "      <td>40.080181</td>\n",
       "    </tr>\n",
       "    <tr>\n",
       "      <th>ATPS4r_nh4_ko</th>\n",
       "      <td>44.074005</td>\n",
       "    </tr>\n",
       "  </tbody>\n",
       "</table>\n",
       "</div>"
      ],
      "text/plain": [
       "                                 Flux rate\n",
       "Reaction ID                               \n",
       "H2Ot_nh4_ko                     -30.682819\n",
       "PGK_nh4_ko                      -16.413495\n",
       "PGM_nh4_ko                      -15.170027\n",
       "CO2t_nh4_ko                     -12.841670\n",
       "PYRt2_nh4_ko                    -11.786388\n",
       "AKGt2r_nh4_ko                    -4.532343\n",
       "RPI_nh4_ko                       -1.974401\n",
       "ACKr_nh4_ko                      -1.810642\n",
       "ACt2r_nh4_ko                     -1.810642\n",
       "SUCOAS_nh4_ko                    -1.457794\n",
       "GLNS_nh4_ko                       0.212537\n",
       "GLUDy_nh4_ko                      0.212537\n",
       "BIOMASS_Ecoli_core_w_GAM_nh4_ko   0.831196\n",
       "TKT2_nh4_ko                       0.928175\n",
       "TALA_nh4_ko                       1.228237\n",
       "TKT1_nh4_ko                       1.228237\n",
       "AKGDH_nh4_ko                      1.457794\n",
       "FUM_nh4_ko                        1.457794\n",
       "MDH_nh4_ko                        1.457794\n",
       "SUCDi_nh4_ko                      1.457794\n",
       "PTAr_nh4_ko                       1.810642\n",
       "RPE_nh4_ko                        2.156412\n",
       "ACONTa_nh4_ko                     2.354571\n",
       "ACONTb_nh4_ko                     2.354571\n",
       "CS_nh4_ko                         2.354571\n",
       "ICDHyr_nh4_ko                     2.354571\n",
       "PYK_nh4_ko                        2.356679\n",
       "PPC_nh4_ko                        2.381874\n",
       "PIt2r_nh4_ko                      3.057719\n",
       "G6PDH2r_nh4_ko                    4.130813\n",
       "GND_nh4_ko                        4.130813\n",
       "PGL_nh4_ko                        4.130813\n",
       "GLUt2r_nh4_ko                     4.532343\n",
       "PGI_nh4_ko                        5.698792\n",
       "PDH_nh4_ko                        7.280367\n",
       "FBA_nh4_ko                        7.796272\n",
       "PFK_nh4_ko                        7.796272\n",
       "TPI_nh4_ko                        7.796272\n",
       "ATPM_nh4_ko                       8.390000\n",
       "D_LACt2_nh4_ko                    9.064686\n",
       "LDH_D_nh4_ko                      9.064686\n",
       "GLCpts_nh4_ko                    10.000000\n",
       "ENO_nh4_ko                       15.170027\n",
       "GAPD_nh4_ko                      16.413495\n",
       "O2t_nh4_ko                       20.040090\n",
       "NADH16_nh4_ko                    38.622387\n",
       "CYTBD_nh4_ko                     40.080181\n",
       "ATPS4r_nh4_ko                    44.074005"
      ]
     },
     "execution_count": 18,
     "metadata": {},
     "output_type": "execute_result"
    }
   ],
   "source": [
    "solution.find('nh4_ko', sort=True)"
   ]
  },
  {
   "cell_type": "markdown",
   "id": "3110d63f",
   "metadata": {},
   "source": [
    "Actually it seems that only one of the organisms is growing while the other has an active metabolism (it exchanges metabolites with the environment and with the other organism) performing the role of a bioconverter, but none of the flux is used for growth. \n",
    "\n",
    "> Do you think this would be a stable consortium ?"
   ]
  },
  {
   "cell_type": "markdown",
   "id": "f6aebbfb",
   "metadata": {},
   "source": [
    "## Community Simulation with SteadyCom"
   ]
  },
  {
   "cell_type": "markdown",
   "id": "7b47083e",
   "metadata": {},
   "source": [
    "**SteadyCom** by [Chan, et al (2017)](https://journals.plos.org/ploscompbiol/article?id=10.1371/journal.pcbi.1005539) is a recent community simulation method that takes into account the fact that to reach a stable composition the organisms need to grow at the same *specific growth rate* (1/h), which means that the *absolute growth rate* (gDW/h) of each organism is proportional to its *abundance* at steady-state (gDW).\n",
    "\n",
    "Let's simulate the same community using SteadyCom:"
   ]
  },
  {
   "cell_type": "code",
   "execution_count": 19,
   "id": "2214667c",
   "metadata": {},
   "outputs": [],
   "source": [
    "from mewpy.cobra.com import SteadyCom as SteadyCom1\n",
    "solution = SteadyCom(community, constraints=M9)\n"
   ]
  },
  {
   "cell_type": "markdown",
   "id": "6e02ca07",
   "metadata": {},
   "source": [
    "In this case the solution object shows the overall community growth rate and the relative abundance of each species:"
   ]
  },
  {
   "cell_type": "code",
   "execution_count": 20,
   "id": "50794ba1",
   "metadata": {},
   "outputs": [
    {
     "data": {
      "text/plain": [
       "Community growth: 0.873046875\n",
       "glc_ko\t0.019267933674315795\n",
       "nh4_ko\t0.9807320663256842"
      ]
     },
     "execution_count": 20,
     "metadata": {},
     "output_type": "execute_result"
    }
   ],
   "source": [
    "solution"
   ]
  },
  {
   "cell_type": "markdown",
   "id": "86f91b4a",
   "metadata": {},
   "source": [
    "The `solution` object for community simulations implements a few additional features, such as enumerating all the cross-feeding interactions:"
   ]
  },
  {
   "cell_type": "code",
   "execution_count": 21,
   "id": "e5b8887e",
   "metadata": {},
   "outputs": [
    {
     "data": {
      "text/html": [
       "<div>\n",
       "<style scoped>\n",
       "    .dataframe tbody tr th:only-of-type {\n",
       "        vertical-align: middle;\n",
       "    }\n",
       "\n",
       "    .dataframe tbody tr th {\n",
       "        vertical-align: top;\n",
       "    }\n",
       "\n",
       "    .dataframe thead th {\n",
       "        text-align: right;\n",
       "    }\n",
       "</style>\n",
       "<table border=\"1\" class=\"dataframe\">\n",
       "  <thead>\n",
       "    <tr style=\"text-align: right;\">\n",
       "      <th></th>\n",
       "      <th>donor</th>\n",
       "      <th>receiver</th>\n",
       "      <th>compound</th>\n",
       "      <th>rate</th>\n",
       "    </tr>\n",
       "  </thead>\n",
       "  <tbody>\n",
       "    <tr>\n",
       "      <th>4</th>\n",
       "      <td>nh4_ko</td>\n",
       "      <td>glc_ko</td>\n",
       "      <td>h_e</td>\n",
       "      <td>24.191611</td>\n",
       "    </tr>\n",
       "    <tr>\n",
       "      <th>14</th>\n",
       "      <td>glc_ko</td>\n",
       "      <td>nh4_ko</td>\n",
       "      <td>acald_e</td>\n",
       "      <td>19.267934</td>\n",
       "    </tr>\n",
       "    <tr>\n",
       "      <th>13</th>\n",
       "      <td>nh4_ko</td>\n",
       "      <td>glc_ko</td>\n",
       "      <td>ac_e</td>\n",
       "      <td>15.019305</td>\n",
       "    </tr>\n",
       "    <tr>\n",
       "      <th>6</th>\n",
       "      <td>nh4_ko</td>\n",
       "      <td>glc_ko</td>\n",
       "      <td>lac__D_e</td>\n",
       "      <td>7.133330</td>\n",
       "    </tr>\n",
       "    <tr>\n",
       "      <th>15</th>\n",
       "      <td>nh4_ko</td>\n",
       "      <td>glc_ko</td>\n",
       "      <td>akg_e</td>\n",
       "      <td>4.717029</td>\n",
       "    </tr>\n",
       "    <tr>\n",
       "      <th>1</th>\n",
       "      <td>glc_ko</td>\n",
       "      <td>nh4_ko</td>\n",
       "      <td>glu__L_e</td>\n",
       "      <td>4.668824</td>\n",
       "    </tr>\n",
       "    <tr>\n",
       "      <th>12</th>\n",
       "      <td>nh4_ko</td>\n",
       "      <td>glc_ko</td>\n",
       "      <td>pyr_e</td>\n",
       "      <td>2.280013</td>\n",
       "    </tr>\n",
       "  </tbody>\n",
       "</table>\n",
       "</div>"
      ],
      "text/plain": [
       "     donor receiver  compound       rate\n",
       "4   nh4_ko   glc_ko       h_e  24.191611\n",
       "14  glc_ko   nh4_ko   acald_e  19.267934\n",
       "13  nh4_ko   glc_ko      ac_e  15.019305\n",
       "6   nh4_ko   glc_ko  lac__D_e   7.133330\n",
       "15  nh4_ko   glc_ko     akg_e   4.717029\n",
       "1   glc_ko   nh4_ko  glu__L_e   4.668824\n",
       "12  nh4_ko   glc_ko     pyr_e   2.280013"
      ]
     },
     "execution_count": 21,
     "metadata": {},
     "output_type": "execute_result"
    }
   ],
   "source": [
    "solution.cross_feeding(as_df=True).dropna().sort_values('rate', ascending=False)"
   ]
  },
  {
   "cell_type": "markdown",
   "id": "c61d9f30",
   "metadata": {},
   "source": [
    "We can plot the fluxes of each mutant in a map to help with interpretation of the results:"
   ]
  },
  {
   "cell_type": "code",
   "execution_count": 22,
   "id": "26e96715",
   "metadata": {
    "scrolled": true
   },
   "outputs": [
    {
     "name": "stdout",
     "output_type": "stream",
     "text": [
      "Downloading Map from https://escher.github.io/1-0-0/6/maps/Escherichia%20coli/e_coli_core.Core%20metabolism.json\n"
     ]
    },
    {
     "data": {
      "application/vnd.jupyter.widget-view+json": {
       "model_id": "4821366baf38400e9da25a27131b071f",
       "version_major": 2,
       "version_minor": 0
      },
      "text/plain": [
       "Builder(reaction_data={'ACALD': -19.267933674315827, 'ACALDt': -19.267933674315827, 'ACKr': 15.019304841008928…"
      ]
     },
     "metadata": {},
     "output_type": "display_data"
    }
   ],
   "source": [
    "from mewpy.visualization.escher import build_escher\n",
    "build_escher(fluxes=solution.internal['glc_ko'])"
   ]
  },
  {
   "cell_type": "code",
   "execution_count": 23,
   "id": "5c3e8ee9",
   "metadata": {},
   "outputs": [
    {
     "name": "stdout",
     "output_type": "stream",
     "text": [
      "Downloading Map from https://escher.github.io/1-0-0/6/maps/Escherichia%20coli/e_coli_core.Core%20metabolism.json\n"
     ]
    },
    {
     "data": {
      "application/vnd.jupyter.widget-view+json": {
       "model_id": "da1d9b9a95054b6f85a593729eabe3b0",
       "version_major": 2,
       "version_minor": 0
      },
      "text/plain": [
       "Builder(reaction_data={'ACALD': 19.267933674315827, 'ACALDt': 19.267933674315827, 'ACKr': -15.019304841008928,…"
      ]
     },
     "metadata": {},
     "output_type": "display_data"
    }
   ],
   "source": [
    "build_escher(fluxes=solution.internal['nh4_ko'])"
   ]
  },
  {
   "cell_type": "markdown",
   "id": "676db548",
   "metadata": {},
   "source": [
    "**Exercise:** Look more closely at the compounds that are exchanged between the two mutants and also at their relative abundance. Is this what you expected? Do you think there could be different solutions?"
   ]
  },
  {
   "cell_type": "markdown",
   "id": "9de7dc40",
   "metadata": {},
   "source": [
    "## Explore alternative solutions\n",
    "\n",
    "Unfortunately, one limitation of **SteadyCom**, which is exemplified by [Chan, et al (2017)](https://journals.plos.org/ploscompbiol/article?id=10.1371/journal.pcbi.1005539) in Figure 3 (reproduced below), is the variability in the solution space when the community is not growing at the maximum (theoretical) growth rate.\n",
    "\n",
    "> Would you expect a synthetic community to grow at its maximum growth rate?\n",
    "\n",
    "**MEWpy** implements a variability analysis function for the SteadyCom solution space, let's see what happens if the community is growing at 90% of the theoretical maximum:"
   ]
  },
  {
   "cell_type": "code",
   "execution_count": 24,
   "id": "71695f63",
   "metadata": {},
   "outputs": [
    {
     "name": "stdout",
     "output_type": "stream",
     "text": [
      "Strain\tMin\tMax\n",
      "glc_ko\t0.4%\t98.3%\n",
      "nh4_ko\t1.7%\t99.6%\n"
     ]
    }
   ],
   "source": [
    "from mewpy.cobra.com import SteadyComVA\n",
    "variability = SteadyComVA(community, obj_frac=0.9, constraints=M9)\n",
    "\n",
    "print('Strain\\tMin\\tMax')\n",
    "for strain, (lower, upper) in variability.items():\n",
    "    print(f'{strain}\\t{lower:.1%}\\t{upper:.1%}')"
   ]
  },
  {
   "cell_type": "markdown",
   "id": "e2c8b384",
   "metadata": {},
   "source": [
    "As you can see, there is a really large variability in this solution space. This means that we know in theory the two mutants **can** cooperate and survive in minimal media, but there is still a lot of uncertainty with regard to **how** they will achieve a stable consortium.\n",
    "\n",
    "> How do you think we can reduce this uncertainty?"
   ]
  },
  {
   "cell_type": "markdown",
   "id": "79d1639a",
   "metadata": {},
   "source": [
    "Firstly, lets set the environment conditions:"
   ]
  },
  {
   "cell_type": "code",
   "execution_count": 25,
   "id": "34220805",
   "metadata": {},
   "outputs": [],
   "source": [
    "sim.set_environmental_conditions(M9)"
   ]
  },
  {
   "cell_type": "markdown",
   "id": "2e0e72d4",
   "metadata": {},
   "source": [
    "We may now impose additional constraints on each organism growth"
   ]
  },
  {
   "cell_type": "code",
   "execution_count": 39,
   "id": "aa8493c9",
   "metadata": {},
   "outputs": [
    {
     "data": {
      "text/plain": [
       "objective: 0.828309078247319\n",
       "Status: OPTIMAL\n",
       "Method:SimulationMethod.FBA"
      ]
     },
     "execution_count": 39,
     "metadata": {},
     "output_type": "execute_result"
    }
   ],
   "source": [
    "constraints={community.organisms_biomass['nh4_ko']:(0.1,1000), \n",
    "             community.organisms_biomass['glc_ko']:(0.1,1000)}\n",
    "solution = sim.simulate(constraints=constraints)\n",
    "solution"
   ]
  },
  {
   "cell_type": "code",
   "execution_count": 40,
   "id": "3abdff4f",
   "metadata": {},
   "outputs": [
    {
     "data": {
      "text/html": [
       "<div>\n",
       "<style scoped>\n",
       "    .dataframe tbody tr th:only-of-type {\n",
       "        vertical-align: middle;\n",
       "    }\n",
       "\n",
       "    .dataframe tbody tr th {\n",
       "        vertical-align: top;\n",
       "    }\n",
       "\n",
       "    .dataframe thead th {\n",
       "        text-align: right;\n",
       "    }\n",
       "</style>\n",
       "<table border=\"1\" class=\"dataframe\">\n",
       "  <thead>\n",
       "    <tr style=\"text-align: right;\">\n",
       "      <th></th>\n",
       "      <th>Flux rate</th>\n",
       "    </tr>\n",
       "    <tr>\n",
       "      <th>Reaction ID</th>\n",
       "      <th></th>\n",
       "    </tr>\n",
       "  </thead>\n",
       "  <tbody>\n",
       "    <tr>\n",
       "      <th>BIOMASS_Ecoli_core_w_GAM_glc_ko</th>\n",
       "      <td>0.100000</td>\n",
       "    </tr>\n",
       "    <tr>\n",
       "      <th>BIOMASS_Ecoli_core_w_GAM_nh4_ko</th>\n",
       "      <td>0.728309</td>\n",
       "    </tr>\n",
       "  </tbody>\n",
       "</table>\n",
       "</div>"
      ],
      "text/plain": [
       "                                 Flux rate\n",
       "Reaction ID                               \n",
       "BIOMASS_Ecoli_core_w_GAM_glc_ko   0.100000\n",
       "BIOMASS_Ecoli_core_w_GAM_nh4_ko   0.728309"
      ]
     },
     "execution_count": 40,
     "metadata": {},
     "output_type": "execute_result"
    }
   ],
   "source": [
    "solution.find('BIOMASS')"
   ]
  },
  {
   "cell_type": "markdown",
   "id": "77a4d880",
   "metadata": {},
   "source": [
    "We might choose to impose relative growth rates:"
   ]
  },
  {
   "cell_type": "code",
   "execution_count": 41,
   "id": "3757aba4",
   "metadata": {},
   "outputs": [],
   "source": [
    "community = CommunityModel([glc_ko, nh4_ko],add_compartments=True, merge_biomasses=True, flavor='cobra')"
   ]
  },
  {
   "cell_type": "code",
   "execution_count": 43,
   "id": "07051a72",
   "metadata": {},
   "outputs": [],
   "source": [
    "sim = community.get_community_model()\n",
    "sim.set_environmental_conditions(M9)"
   ]
  },
  {
   "cell_type": "code",
   "execution_count": 47,
   "id": "9dddf4bd",
   "metadata": {},
   "outputs": [
    {
     "name": "stdout",
     "output_type": "stream",
     "text": [
      "objective: 0.40757209363986213\n",
      "Status: OPTIMAL\n",
      "Method:SimulationMethod.FBA\n"
     ]
    },
    {
     "data": {
      "text/html": [
       "<div>\n",
       "<style scoped>\n",
       "    .dataframe tbody tr th:only-of-type {\n",
       "        vertical-align: middle;\n",
       "    }\n",
       "\n",
       "    .dataframe tbody tr th {\n",
       "        vertical-align: top;\n",
       "    }\n",
       "\n",
       "    .dataframe thead th {\n",
       "        text-align: right;\n",
       "    }\n",
       "</style>\n",
       "<table border=\"1\" class=\"dataframe\">\n",
       "  <thead>\n",
       "    <tr style=\"text-align: right;\">\n",
       "      <th></th>\n",
       "      <th>Flux rate</th>\n",
       "    </tr>\n",
       "    <tr>\n",
       "      <th>Reaction ID</th>\n",
       "      <th></th>\n",
       "    </tr>\n",
       "  </thead>\n",
       "  <tbody>\n",
       "    <tr>\n",
       "      <th>BIOMASS_Ecoli_core_w_GAM_glc_ko</th>\n",
       "      <td>0.407572</td>\n",
       "    </tr>\n",
       "    <tr>\n",
       "      <th>BIOMASS_Ecoli_core_w_GAM_nh4_ko</th>\n",
       "      <td>0.407572</td>\n",
       "    </tr>\n",
       "  </tbody>\n",
       "</table>\n",
       "</div>"
      ],
      "text/plain": [
       "                                 Flux rate\n",
       "Reaction ID                               \n",
       "BIOMASS_Ecoli_core_w_GAM_glc_ko   0.407572\n",
       "BIOMASS_Ecoli_core_w_GAM_nh4_ko   0.407572"
      ]
     },
     "execution_count": 47,
     "metadata": {},
     "output_type": "execute_result"
    }
   ],
   "source": [
    "solution = sim.simulate()\n",
    "print(solution)\n",
    "solution.find('BIOM')"
   ]
  },
  {
   "cell_type": "code",
   "execution_count": 48,
   "id": "9e42d148",
   "metadata": {},
   "outputs": [
    {
     "data": {
      "text/html": [
       "<div>\n",
       "<style scoped>\n",
       "    .dataframe tbody tr th:only-of-type {\n",
       "        vertical-align: middle;\n",
       "    }\n",
       "\n",
       "    .dataframe tbody tr th {\n",
       "        vertical-align: top;\n",
       "    }\n",
       "\n",
       "    .dataframe thead th {\n",
       "        text-align: right;\n",
       "    }\n",
       "</style>\n",
       "<table border=\"1\" class=\"dataframe\">\n",
       "  <thead>\n",
       "    <tr style=\"text-align: right;\">\n",
       "      <th></th>\n",
       "      <th>name</th>\n",
       "      <th>lb</th>\n",
       "      <th>ub</th>\n",
       "      <th>stoichiometry</th>\n",
       "      <th>gpr</th>\n",
       "      <th>annotations</th>\n",
       "    </tr>\n",
       "    <tr>\n",
       "      <th>id</th>\n",
       "      <th></th>\n",
       "      <th></th>\n",
       "      <th></th>\n",
       "      <th></th>\n",
       "      <th></th>\n",
       "      <th></th>\n",
       "    </tr>\n",
       "  </thead>\n",
       "  <tbody>\n",
       "    <tr>\n",
       "      <th>community_growth</th>\n",
       "      <td>Community growth rate</td>\n",
       "      <td>0</td>\n",
       "      <td>inf</td>\n",
       "      <td>{'Biomass_glc_ko': -1, 'Biomass_nh4_ko': -1}</td>\n",
       "      <td></td>\n",
       "      <td>{}</td>\n",
       "    </tr>\n",
       "  </tbody>\n",
       "</table>\n",
       "</div>"
      ],
      "text/plain": [
       "                                   name  lb   ub  \\\n",
       "id                                                 \n",
       "community_growth  Community growth rate   0  inf   \n",
       "\n",
       "                                                 stoichiometry gpr annotations  \n",
       "id                                                                              \n",
       "community_growth  {'Biomass_glc_ko': -1, 'Biomass_nh4_ko': -1}              {}  "
      ]
     },
     "execution_count": 48,
     "metadata": {},
     "output_type": "execute_result"
    }
   ],
   "source": [
    "sim.find(community.biomass)"
   ]
  },
  {
   "cell_type": "markdown",
   "id": "6b0b24b8",
   "metadata": {},
   "source": [
    "The relative abundance (realtive growth rates) are by default equal. We may though change this ratio:  "
   ]
  },
  {
   "cell_type": "code",
   "execution_count": 49,
   "id": "f8567d32",
   "metadata": {},
   "outputs": [
    {
     "data": {
      "text/html": [
       "<div>\n",
       "<style scoped>\n",
       "    .dataframe tbody tr th:only-of-type {\n",
       "        vertical-align: middle;\n",
       "    }\n",
       "\n",
       "    .dataframe tbody tr th {\n",
       "        vertical-align: top;\n",
       "    }\n",
       "\n",
       "    .dataframe thead th {\n",
       "        text-align: right;\n",
       "    }\n",
       "</style>\n",
       "<table border=\"1\" class=\"dataframe\">\n",
       "  <thead>\n",
       "    <tr style=\"text-align: right;\">\n",
       "      <th></th>\n",
       "      <th>Flux rate</th>\n",
       "    </tr>\n",
       "    <tr>\n",
       "      <th>Reaction ID</th>\n",
       "      <th></th>\n",
       "    </tr>\n",
       "  </thead>\n",
       "  <tbody>\n",
       "    <tr>\n",
       "      <th>BIOMASS_Ecoli_core_w_GAM_glc_ko</th>\n",
       "      <td>0.273638</td>\n",
       "    </tr>\n",
       "    <tr>\n",
       "      <th>BIOMASS_Ecoli_core_w_GAM_nh4_ko</th>\n",
       "      <td>0.547275</td>\n",
       "    </tr>\n",
       "  </tbody>\n",
       "</table>\n",
       "</div>"
      ],
      "text/plain": [
       "                                 Flux rate\n",
       "Reaction ID                               \n",
       "BIOMASS_Ecoli_core_w_GAM_glc_ko   0.273638\n",
       "BIOMASS_Ecoli_core_w_GAM_nh4_ko   0.547275"
      ]
     },
     "execution_count": 49,
     "metadata": {},
     "output_type": "execute_result"
    }
   ],
   "source": [
    "community.set_abundance({'glc_ko':1,'nh4_ko':2})\n",
    "sim.simulate().find('BIOMASS')"
   ]
  },
  {
   "cell_type": "markdown",
   "id": "32175191",
   "metadata": {},
   "source": [
    "## SMETANA"
   ]
  },
  {
   "cell_type": "code",
   "execution_count": null,
   "id": "0512edbe",
   "metadata": {},
   "outputs": [],
   "source": []
  }
 ],
 "metadata": {
  "kernelspec": {
   "display_name": "Python 3 (ipykernel)",
   "language": "python",
   "name": "python3"
  },
  "language_info": {
   "codemirror_mode": {
    "name": "ipython",
    "version": 3
   },
   "file_extension": ".py",
   "mimetype": "text/x-python",
   "name": "python",
   "nbconvert_exporter": "python",
   "pygments_lexer": "ipython3",
   "version": "3.9.15"
  },
  "vscode": {
   "interpreter": {
    "hash": "53ddbca413d8c7d71c8bf00ad42e215a2a7a7728d07d0ca366dfc9251666779d"
   }
  }
 },
 "nbformat": 4,
 "nbformat_minor": 5
}
